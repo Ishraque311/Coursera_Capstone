{
 "cells": [
  {
   "cell_type": "markdown",
   "metadata": {},
   "source": [
    "# Applied Data Science Capstone Project: Finding Location to Open a Coffee Shop in Dhaka City"
   ]
  },
  {
   "cell_type": "markdown",
   "metadata": {},
   "source": [
    "## Introduction/Business Problem\n",
    "An entrepreneur wants to open a new coffee shop in Dhaka city, where families and friends can gather in the evening to meet and have coffee and snacks. He wants to make the business profitable and is looking for a location in the city where opening a coffee shop will be profitable. So, you are task as a data scientist is to find such a location in Dhaka city."
   ]
  },
  {
   "cell_type": "markdown",
   "metadata": {},
   "source": [
    "## Data\n",
    "The factors that play an important role when selecting a location to open a coffee shop includes:\n",
    "\n",
    "#### Demographics:\n",
    "Target demographics and foot traffic of those people is important when you’re picking a location for your coffee shop. In this study, the target demographics are families, groups of friends, which includes school, college, and university going students. \n",
    "\n",
    "#### Neighboring businesses:\n",
    "Neighboring businesses can affect the opening of the new business both negatively and positively. For example, opening a new coffee shop near a location where a coffee shop already exists may negatively impact profitability. Again, neighboring businesses can also help a new coffee shop by complementing its offerings. For example in this study opening coffee shop near a university or a recreational center may benefit the business.\n",
    "\n",
    "#### Accessibility:\n",
    "The accessibility should be a consideration when searching for the best location for a coffee shop. It should be in such a location that the target demographics can easily come to the place. How they will get to the location consideration should be given.\n",
    "### Data used\n",
    "In this study to analyze these factors Foursquare location data will be used to find the best location to open the new coffee shop. Four square location dataset have 'Descriptive Place Profiles' which leverages 70+ venue attributes and 900+ categories, sourced by the Foursquare consumer community. This will provide a better understanding of the neighborhoods, the demographics, types of businesses that already exist there, and the accessibilities to those locations. It will help to make a decision on where opening a coffee shop will be profitable."
   ]
  },
  {
   "cell_type": "code",
   "execution_count": 3,
   "metadata": {},
   "outputs": [],
   "source": [
    "import pandas as pd\n",
    "import numpy as np"
   ]
  },
  {
   "cell_type": "code",
   "execution_count": 4,
   "metadata": {},
   "outputs": [
    {
     "name": "stdout",
     "output_type": "stream",
     "text": [
      "Hello Capstone Project Course!\n"
     ]
    }
   ],
   "source": [
    "print('Hello Capstone Project Course!');"
   ]
  },
  {
   "cell_type": "code",
   "execution_count": null,
   "metadata": {},
   "outputs": [],
   "source": []
  }
 ],
 "metadata": {
  "kernelspec": {
   "display_name": "Python 3",
   "language": "python",
   "name": "python3"
  },
  "language_info": {
   "codemirror_mode": {
    "name": "ipython",
    "version": 3
   },
   "file_extension": ".py",
   "mimetype": "text/x-python",
   "name": "python",
   "nbconvert_exporter": "python",
   "pygments_lexer": "ipython3",
   "version": "3.7.5"
  }
 },
 "nbformat": 4,
 "nbformat_minor": 4
}
